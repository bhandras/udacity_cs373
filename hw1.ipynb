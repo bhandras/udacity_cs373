{
 "cells": [
  {
   "cell_type": "code",
   "execution_count": 16,
   "metadata": {
    "collapsed": false
   },
   "outputs": [
    {
     "name": "stdout",
     "output_type": "stream",
     "text": [
      "[[0.01106,0.02464,0.06800,0.04472,0.02465],\n",
      " [0.00715,0.01017,0.08697,0.07988,0.00935],\n",
      " [0.00740,0.00894,0.11273,0.35351,0.04066],\n",
      " [0.00911,0.00715,0.01435,0.04313,0.03643]]\n"
     ]
    }
   ],
   "source": [
    "# The function localize takes the following arguments:\n",
    "#\n",
    "# colors:\n",
    "#        2D list, each entry either 'R' (for red cell) or 'G' (for green cell)\n",
    "#\n",
    "# measurements:\n",
    "#        list of measurements taken by the robot, each entry either 'R' or 'G'\n",
    "#\n",
    "# motions:\n",
    "#        list of actions taken by the robot, each entry of the form [dy,dx],\n",
    "#        where dx refers to the change in the x-direction (positive meaning\n",
    "#        movement to the right) and dy refers to the change in the y-direction\n",
    "#        (positive meaning movement downward)\n",
    "#        NOTE: the *first* coordinate is change in y; the *second* coordinate is\n",
    "#              change in x\n",
    "#\n",
    "# sensor_right:\n",
    "#        float between 0 and 1, giving the probability that any given\n",
    "#        measurement is correct; the probability that the measurement is\n",
    "#        incorrect is 1-sensor_right\n",
    "#\n",
    "# p_move:\n",
    "#        float between 0 and 1, giving the probability that any given movement\n",
    "#        command takes place; the probability that the movement command fails\n",
    "#        (and the robot remains still) is 1-p_move; the robot will NOT overshoot\n",
    "#        its destination in this exercise\n",
    "#\n",
    "# The function should RETURN (not just show or print) a 2D list (of the same\n",
    "# dimensions as colors) that gives the probabilities that the robot occupies\n",
    "# each cell in the world.\n",
    "#\n",
    "# Compute the probabilities by assuming the robot initially has a uniform\n",
    "# probability of being in any cell.\n",
    "#\n",
    "# Also assume that at each step, the robot:\n",
    "# 1) first makes a movement,\n",
    "# 2) then takes a measurement.\n",
    "#\n",
    "# Motion:\n",
    "#  [0,0] - stay\n",
    "#  [0,1] - right\n",
    "#  [0,-1] - left\n",
    "#  [1,0] - down\n",
    "#  [-1,0] - up\n",
    "import copy\n",
    "                      \n",
    "def localize(colors,measurements,motions,sensor_right,p_move):\n",
    "    # initializes p to a uniform distribution over a grid of the same dimensions as colors\n",
    "    pinit = 1.0 / float(len(colors)) / float(len(colors[0]))\n",
    "    p = [[pinit for row in range(len(colors[0]))] for col in range(len(colors))]\n",
    "    \n",
    "    p_hit = sensor_right\n",
    "    p_miss = 1.0 - sensor_right\n",
    "    \n",
    "    h = len(colors)\n",
    "    w = len(colors[0])\n",
    "    \n",
    "    for m in range(len(measurements)):\n",
    "        # move\n",
    "        tmp = copy.deepcopy(p)\n",
    "        mi = motions[m][0]\n",
    "        mj = motions[m][1]\n",
    "        for i in range(h):\n",
    "            for j in range(w):\n",
    "                p[i][j] = p_move * tmp[(i - mi) % h][(j - mj) % w]\n",
    "                p[i][j] += (1 - p_move) * tmp[i][j]\n",
    "        \n",
    "        # sense\n",
    "        s = 0.0\n",
    "        for i in range(h):\n",
    "            for j in range(w):\n",
    "                hit = (measurements[m] == colors[i][j])\n",
    "                p[i][j] *= (hit * p_hit + (1.0 - hit) * p_miss)\n",
    "                s += p[i][j]\n",
    "                \n",
    "        for i in range(h):\n",
    "            for j in range(w):\n",
    "                p[i][j] /= s\n",
    "    return p\n",
    "\n",
    "def show(p):\n",
    "    rows = ['[' + ','.join(map(lambda x: '{0:.5f}'.format(x),r)) + ']' for r in p]\n",
    "    print('[' + ',\\n '.join(rows) + ']')\n",
    "    \n",
    "#############################################################\n",
    "# For the following test case, your output should be \n",
    "# [[0.01105, 0.02464, 0.06799, 0.04472, 0.02465],\n",
    "#  [0.00715, 0.01017, 0.08696, 0.07988, 0.00935],\n",
    "#  [0.00739, 0.00894, 0.11272, 0.35350, 0.04065],\n",
    "#  [0.00910, 0.00715, 0.01434, 0.04313, 0.03642]]\n",
    "# (within a tolerance of +/- 0.001 for each entry)\n",
    "\n",
    "colors = [['R','G','G','R','R'],\n",
    "          ['R','R','G','R','R'],\n",
    "          ['R','R','G','G','R'],\n",
    "          ['R','R','R','R','R']]\n",
    "measurements = ['G','G','G','G','G']\n",
    "motions = [[0,0],[0,1],[1,0],[1,0],[0,1]]\n",
    "p = localize(colors,measurements,motions,sensor_right = 0.7, p_move = 0.8)\n",
    "show(p) # displays your answer"
   ]
  },
  {
   "cell_type": "code",
   "execution_count": 21,
   "metadata": {
    "collapsed": false
   },
   "outputs": [
    {
     "name": "stdout",
     "output_type": "stream",
     "text": [
      "[[0.00000,0.00000,0.00000],\n",
      " [0.00000,1.00000,0.00000],\n",
      " [0.00000,0.00000,0.00000]]\n"
     ]
    }
   ],
   "source": [
    "# test 1\n",
    "colors = [['G', 'G', 'G'],\n",
    "          ['G', 'R', 'G'],\n",
    "          ['G', 'G', 'G']]\n",
    "measurements = ['R']\n",
    "motions = [[0,1]]\n",
    "sensor_right = 1.0\n",
    "p_move = 1.0\n",
    "p = localize(colors,measurements,motions,sensor_right,p_move)\n",
    "correct_answer = (\n",
    "    [[0.0, 0.0, 0.0],\n",
    "     [0.0, 1.0, 0.0],\n",
    "     [0.0, 0.0, 0.0]])\n",
    "\n",
    "show(p)"
   ]
  },
  {
   "cell_type": "code",
   "execution_count": 18,
   "metadata": {
    "collapsed": false
   },
   "outputs": [
    {
     "name": "stdout",
     "output_type": "stream",
     "text": [
      "[[0.00000,0.00000,0.00000],\n",
      " [0.00000,0.50000,0.50000],\n",
      " [0.00000,0.00000,0.00000]]\n"
     ]
    }
   ],
   "source": [
    "# test 2\n",
    "colors = [['G', 'G', 'G'],\n",
    "          ['G', 'R', 'R'],\n",
    "          ['G', 'G', 'G']]\n",
    "measurements = ['R']\n",
    "motions = [[0,0]]\n",
    "sensor_right = 1.0\n",
    "p_move = 1.0\n",
    "p = localize(colors,measurements,motions,sensor_right,p_move)\n",
    "correct_answer = (\n",
    "    [[0.0, 0.0, 0.0],\n",
    "     [0.0, 0.5, 0.5],\n",
    "     [0.0, 0.0, 0.0]])\n",
    "show(p)"
   ]
  },
  {
   "cell_type": "code",
   "execution_count": 19,
   "metadata": {
    "collapsed": false
   },
   "outputs": [
    {
     "name": "stdout",
     "output_type": "stream",
     "text": [
      "[[0.06667,0.06667,0.06667],\n",
      " [0.06667,0.26667,0.26667],\n",
      " [0.06667,0.06667,0.06667]]\n"
     ]
    }
   ],
   "source": [
    "# test 3\n",
    "colors = [['G', 'G', 'G'],\n",
    "          ['G', 'R', 'R'],\n",
    "          ['G', 'G', 'G']]\n",
    "measurements = ['R']\n",
    "motions = [[0,0]]\n",
    "sensor_right = 0.8\n",
    "p_move = 1.0\n",
    "p = localize(colors,measurements,motions,sensor_right,p_move)\n",
    "correct_answer = (\n",
    "    [[0.06666666666, 0.06666666666, 0.06666666666],\n",
    "     [0.06666666666, 0.26666666666, 0.26666666666],\n",
    "     [0.06666666666, 0.06666666666, 0.06666666666]])\n",
    "\n",
    "show(p)"
   ]
  },
  {
   "cell_type": "code",
   "execution_count": 20,
   "metadata": {
    "collapsed": false
   },
   "outputs": [
    {
     "name": "stdout",
     "output_type": "stream",
     "text": [
      "[[0.03333,0.03333,0.03333],\n",
      " [0.13333,0.13333,0.53333],\n",
      " [0.03333,0.03333,0.03333]]\n"
     ]
    }
   ],
   "source": [
    "# test 4\n",
    "colors = [['G', 'G', 'G'],\n",
    "          ['G', 'R', 'R'],\n",
    "          ['G', 'G', 'G']]\n",
    "measurements = ['R', 'R']\n",
    "motions = [[0,0], [0,1]]\n",
    "sensor_right = 0.8\n",
    "p_move = 1.0\n",
    "p = localize(colors,measurements,motions,sensor_right,p_move)\n",
    "correct_answer = (\n",
    "    [[0.03333333333, 0.03333333333, 0.03333333333],\n",
    "     [0.13333333333, 0.13333333333, 0.53333333333],\n",
    "     [0.03333333333, 0.03333333333, 0.03333333333]])\n",
    "\n",
    "show(p)"
   ]
  }
 ],
 "metadata": {
  "kernelspec": {
   "display_name": "Python 3",
   "language": "python",
   "name": "python3"
  },
  "language_info": {
   "codemirror_mode": {
    "name": "ipython",
    "version": 3
   },
   "file_extension": ".py",
   "mimetype": "text/x-python",
   "name": "python",
   "nbconvert_exporter": "python",
   "pygments_lexer": "ipython3",
   "version": "3.5.2"
  }
 },
 "nbformat": 4,
 "nbformat_minor": 2
}
